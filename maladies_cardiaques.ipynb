{
 "cells": [
  {
   "cell_type": "markdown",
   "metadata": {},
   "source": [
    "# INTRODUCTION"
   ]
  },
  {
   "cell_type": "markdown",
   "metadata": {},
   "source": [
    "Nous allons dans ce notebook tenter de detecter si un patient peut etre atteint de maladie cardiaque ou pas. Pour cela nous allons utiliser 4 algorithmes (Regression Logistic, RandomForest, SVC et KNN) ainsi qu'un perceptron et les comparer afin d'obtenir le meilleur modele"
   ]
  },
  {
   "cell_type": "markdown",
   "metadata": {},
   "source": [
    "# LIBRAIRIES"
   ]
  },
  {
   "cell_type": "code",
   "execution_count": 1,
   "metadata": {},
   "outputs": [],
   "source": [
    "import pandas as pd \n",
    "import numpy as np \n",
    "import seaborn as sns\n",
    "import matplotlib.pyplot as plt\n",
    "from sklearn import preprocessing\n",
    "import sklearn.model_selection as ms\n",
    "from sklearn import linear_model\n",
    "import sklearn.metrics as sklm\n",
    "from sklearn.model_selection import cross_val_score, train_test_split\n",
    "import scipy.stats as ss\n",
    "from sklearn import feature_selection as fs\n",
    "from sklearn.linear_model import LogisticRegression\n",
    "from sklearn.ensemble import RandomForestClassifier\n",
    "from sklearn.svm import SVC\n",
    "from sklearn.neighbors import KNeighborsClassifier"
   ]
  },
  {
   "cell_type": "markdown",
   "metadata": {},
   "source": [
    "# DATASET"
   ]
  },
  {
   "cell_type": "code",
   "execution_count": 2,
   "metadata": {},
   "outputs": [
    {
     "data": {
      "text/html": [
       "<div>\n",
       "<style scoped>\n",
       "    .dataframe tbody tr th:only-of-type {\n",
       "        vertical-align: middle;\n",
       "    }\n",
       "\n",
       "    .dataframe tbody tr th {\n",
       "        vertical-align: top;\n",
       "    }\n",
       "\n",
       "    .dataframe thead th {\n",
       "        text-align: right;\n",
       "    }\n",
       "</style>\n",
       "<table border=\"1\" class=\"dataframe\">\n",
       "  <thead>\n",
       "    <tr style=\"text-align: right;\">\n",
       "      <th></th>\n",
       "      <th>age</th>\n",
       "      <th>sex</th>\n",
       "      <th>chest pain type</th>\n",
       "      <th>resting bp s</th>\n",
       "      <th>cholesterol</th>\n",
       "      <th>fasting blood sugar</th>\n",
       "      <th>resting ecg</th>\n",
       "      <th>max heart rate</th>\n",
       "      <th>exercise angina</th>\n",
       "      <th>oldpeak</th>\n",
       "      <th>ST slope</th>\n",
       "      <th>target</th>\n",
       "    </tr>\n",
       "  </thead>\n",
       "  <tbody>\n",
       "    <tr>\n",
       "      <th>0</th>\n",
       "      <td>40</td>\n",
       "      <td>1</td>\n",
       "      <td>2</td>\n",
       "      <td>140</td>\n",
       "      <td>289</td>\n",
       "      <td>0</td>\n",
       "      <td>0</td>\n",
       "      <td>172</td>\n",
       "      <td>0</td>\n",
       "      <td>0.0</td>\n",
       "      <td>1</td>\n",
       "      <td>0</td>\n",
       "    </tr>\n",
       "    <tr>\n",
       "      <th>1</th>\n",
       "      <td>49</td>\n",
       "      <td>0</td>\n",
       "      <td>3</td>\n",
       "      <td>160</td>\n",
       "      <td>180</td>\n",
       "      <td>0</td>\n",
       "      <td>0</td>\n",
       "      <td>156</td>\n",
       "      <td>0</td>\n",
       "      <td>1.0</td>\n",
       "      <td>2</td>\n",
       "      <td>1</td>\n",
       "    </tr>\n",
       "    <tr>\n",
       "      <th>2</th>\n",
       "      <td>37</td>\n",
       "      <td>1</td>\n",
       "      <td>2</td>\n",
       "      <td>130</td>\n",
       "      <td>283</td>\n",
       "      <td>0</td>\n",
       "      <td>1</td>\n",
       "      <td>98</td>\n",
       "      <td>0</td>\n",
       "      <td>0.0</td>\n",
       "      <td>1</td>\n",
       "      <td>0</td>\n",
       "    </tr>\n",
       "    <tr>\n",
       "      <th>3</th>\n",
       "      <td>48</td>\n",
       "      <td>0</td>\n",
       "      <td>4</td>\n",
       "      <td>138</td>\n",
       "      <td>214</td>\n",
       "      <td>0</td>\n",
       "      <td>0</td>\n",
       "      <td>108</td>\n",
       "      <td>1</td>\n",
       "      <td>1.5</td>\n",
       "      <td>2</td>\n",
       "      <td>1</td>\n",
       "    </tr>\n",
       "    <tr>\n",
       "      <th>4</th>\n",
       "      <td>54</td>\n",
       "      <td>1</td>\n",
       "      <td>3</td>\n",
       "      <td>150</td>\n",
       "      <td>195</td>\n",
       "      <td>0</td>\n",
       "      <td>0</td>\n",
       "      <td>122</td>\n",
       "      <td>0</td>\n",
       "      <td>0.0</td>\n",
       "      <td>1</td>\n",
       "      <td>0</td>\n",
       "    </tr>\n",
       "  </tbody>\n",
       "</table>\n",
       "</div>"
      ],
      "text/plain": [
       "   age  sex  chest pain type  resting bp s  cholesterol  fasting blood sugar  \\\n",
       "0   40    1                2           140          289                    0   \n",
       "1   49    0                3           160          180                    0   \n",
       "2   37    1                2           130          283                    0   \n",
       "3   48    0                4           138          214                    0   \n",
       "4   54    1                3           150          195                    0   \n",
       "\n",
       "   resting ecg  max heart rate  exercise angina  oldpeak  ST slope  target  \n",
       "0            0             172                0      0.0         1       0  \n",
       "1            0             156                0      1.0         2       1  \n",
       "2            1              98                0      0.0         1       0  \n",
       "3            0             108                1      1.5         2       1  \n",
       "4            0             122                0      0.0         1       0  "
      ]
     },
     "execution_count": 2,
     "metadata": {},
     "output_type": "execute_result"
    }
   ],
   "source": [
    "mc= pd.read_csv('heart-disease-uci/heart_statlog_cleveland_hungary_final.csv')\n",
    "mc.head()"
   ]
  },
  {
   "cell_type": "code",
   "execution_count": 3,
   "metadata": {},
   "outputs": [
    {
     "data": {
      "text/plain": [
       "['age',\n",
       " 'sex',\n",
       " 'chest pain type',\n",
       " 'resting bp s',\n",
       " 'cholesterol',\n",
       " 'fasting blood sugar',\n",
       " 'resting ecg',\n",
       " 'max heart rate',\n",
       " 'exercise angina',\n",
       " 'oldpeak',\n",
       " 'ST slope',\n",
       " 'target']"
      ]
     },
     "execution_count": 3,
     "metadata": {},
     "output_type": "execute_result"
    }
   ],
   "source": [
    "cols = mc.columns.to_list()\n",
    "cols"
   ]
  },
  {
   "cell_type": "code",
   "execution_count": 5,
   "metadata": {},
   "outputs": [
    {
     "data": {
      "text/html": [
       "<div>\n",
       "<style scoped>\n",
       "    .dataframe tbody tr th:only-of-type {\n",
       "        vertical-align: middle;\n",
       "    }\n",
       "\n",
       "    .dataframe tbody tr th {\n",
       "        vertical-align: top;\n",
       "    }\n",
       "\n",
       "    .dataframe thead th {\n",
       "        text-align: right;\n",
       "    }\n",
       "</style>\n",
       "<table border=\"1\" class=\"dataframe\">\n",
       "  <thead>\n",
       "    <tr style=\"text-align: right;\">\n",
       "      <th></th>\n",
       "      <th>age</th>\n",
       "      <th>resting bp s</th>\n",
       "      <th>cholesterol</th>\n",
       "      <th>max heart rate</th>\n",
       "      <th>oldpeak</th>\n",
       "      <th>sex</th>\n",
       "      <th>chest pain type</th>\n",
       "      <th>fasting blood sugar</th>\n",
       "      <th>resting ecg</th>\n",
       "      <th>exercise angina</th>\n",
       "      <th>ST slope</th>\n",
       "      <th>target</th>\n",
       "    </tr>\n",
       "  </thead>\n",
       "  <tbody>\n",
       "    <tr>\n",
       "      <th>0</th>\n",
       "      <td>40</td>\n",
       "      <td>140</td>\n",
       "      <td>289</td>\n",
       "      <td>172</td>\n",
       "      <td>0.0</td>\n",
       "      <td>1</td>\n",
       "      <td>2</td>\n",
       "      <td>0</td>\n",
       "      <td>0</td>\n",
       "      <td>0</td>\n",
       "      <td>1</td>\n",
       "      <td>0</td>\n",
       "    </tr>\n",
       "    <tr>\n",
       "      <th>1</th>\n",
       "      <td>49</td>\n",
       "      <td>160</td>\n",
       "      <td>180</td>\n",
       "      <td>156</td>\n",
       "      <td>1.0</td>\n",
       "      <td>0</td>\n",
       "      <td>3</td>\n",
       "      <td>0</td>\n",
       "      <td>0</td>\n",
       "      <td>0</td>\n",
       "      <td>2</td>\n",
       "      <td>1</td>\n",
       "    </tr>\n",
       "    <tr>\n",
       "      <th>2</th>\n",
       "      <td>37</td>\n",
       "      <td>130</td>\n",
       "      <td>283</td>\n",
       "      <td>98</td>\n",
       "      <td>0.0</td>\n",
       "      <td>1</td>\n",
       "      <td>2</td>\n",
       "      <td>0</td>\n",
       "      <td>1</td>\n",
       "      <td>0</td>\n",
       "      <td>1</td>\n",
       "      <td>0</td>\n",
       "    </tr>\n",
       "    <tr>\n",
       "      <th>3</th>\n",
       "      <td>48</td>\n",
       "      <td>138</td>\n",
       "      <td>214</td>\n",
       "      <td>108</td>\n",
       "      <td>1.5</td>\n",
       "      <td>0</td>\n",
       "      <td>4</td>\n",
       "      <td>0</td>\n",
       "      <td>0</td>\n",
       "      <td>1</td>\n",
       "      <td>2</td>\n",
       "      <td>1</td>\n",
       "    </tr>\n",
       "    <tr>\n",
       "      <th>4</th>\n",
       "      <td>54</td>\n",
       "      <td>150</td>\n",
       "      <td>195</td>\n",
       "      <td>122</td>\n",
       "      <td>0.0</td>\n",
       "      <td>1</td>\n",
       "      <td>3</td>\n",
       "      <td>0</td>\n",
       "      <td>0</td>\n",
       "      <td>0</td>\n",
       "      <td>1</td>\n",
       "      <td>0</td>\n",
       "    </tr>\n",
       "  </tbody>\n",
       "</table>\n",
       "</div>"
      ],
      "text/plain": [
       "   age  resting bp s  cholesterol  max heart rate  oldpeak  sex  \\\n",
       "0   40           140          289             172      0.0    1   \n",
       "1   49           160          180             156      1.0    0   \n",
       "2   37           130          283              98      0.0    1   \n",
       "3   48           138          214             108      1.5    0   \n",
       "4   54           150          195             122      0.0    1   \n",
       "\n",
       "   chest pain type  fasting blood sugar  resting ecg  exercise angina  \\\n",
       "0                2                    0            0                0   \n",
       "1                3                    0            0                0   \n",
       "2                2                    0            1                0   \n",
       "3                4                    0            0                1   \n",
       "4                3                    0            0                0   \n",
       "\n",
       "   ST slope  target  \n",
       "0         1       0  \n",
       "1         2       1  \n",
       "2         1       0  \n",
       "3         2       1  \n",
       "4         1       0  "
      ]
     },
     "execution_count": 5,
     "metadata": {},
     "output_type": "execute_result"
    }
   ],
   "source": [
    "cols = ['age',\n",
    "         'resting bp s',\n",
    "        'cholesterol',\n",
    "         'max heart rate',\n",
    "         'oldpeak',\n",
    "         'sex',\n",
    "        'chest pain type',       \n",
    "         'fasting blood sugar',\n",
    "         'resting ecg',\n",
    "         'exercise angina',\n",
    "        'ST slope',\n",
    "         'target']\n",
    "mc = mc[cols]\n",
    "mc.head()"
   ]
  },
  {
   "cell_type": "code",
   "execution_count": null,
   "metadata": {},
   "outputs": [],
   "source": []
  },
  {
   "cell_type": "markdown",
   "metadata": {},
   "source": [
    "3 age: age in years\n",
    "4 sex: sex (1 = male; 0 = female)\n",
    "9 cp: chest pain type\n",
    "        -- Value 1: typical angina\n",
    "        -- Value 2: atypical angina\n",
    "        -- Value 3: non-anginal pain\n",
    "        -- Value 4: asymptomatic\n",
    "10 trestbps: resting blood pressure (in mm Hg on admission to the \n",
    "        hospital)\n",
    "12 chol: serum cholestoral in mg/dl\n",
    "16 fbs: (fasting blood sugar > 120 mg/dl)  (1 = true; 0 = false)\n",
    "19 restecg: resting electrocardiographic results\n",
    "        -- Value 0: normal\n",
    "        -- Value 1: having ST-T wave abnormality (T wave inversions and/or ST \n",
    "                    elevation or depression of > 0.05 mV)\n",
    "        -- Value 2: showing probable or definite left ventricular hypertrophy\n",
    "                    by Estes' criteria\n",
    "32 thalach: maximum heart rate achieved\n",
    "38 exang: exercise induced angina (1 = yes; 0 = no)\n",
    "40 oldpeak = ST depression induced by exercise relative to rest\n",
    "41 slope: the slope of the peak exercise ST segment\n",
    "        -- Value 1: upsloping\n",
    "        -- Value 2: flat\n",
    "        -- Value 3: downsloping\n",
    "44 ca: number of major vessels (0-3) colored by flourosopy\n",
    "51 thal: 3 = normal; 6 = fixed defect; 7 = reversable defect\n",
    "58 num: diagnosis of heart disease (angiographic disease status)\n",
    "        -- Value 0: < 50% diameter narrowing\n",
    "        -- Value 1: > 50% diameter narrowing\n",
    "        (in any major vessel: attributes 59 through 68 are vessels)"
   ]
  },
  {
   "cell_type": "markdown",
   "metadata": {},
   "source": [
    "L'angine de poitrine Écouter, ou angor (en latin : angina pectoris ou angor pectoris, « constriction de la poitrine »), est un symptôme cardiaque caractérisant la maladie coronarienne et se manifestant par une douleur thoracique résultant d'un manque d'apport d'oxygène au myocarde, le plus souvent consécutive à une diminution du débit sanguin dans une artère coronaire (on parle de sténose coronarienne). Ce manque d'oxygène au niveau du cœur est appelé ischémie du myocarde. L'angine de poitrine est un symptôme commun mais inconstant de l'ischémie du myocarde : cette douleur survient typiquement lors d'un effort et cesse à l'arrêt de ce dernier. C'est ce qui peut aider à distinguer l'angine des autres types de douleurs thoraciques. \n",
    "\n",
    "In electrocardiography, the ST segment connects the QRS complex and the T wave and has a duration of 0.005 to 0.150 sec (5 to 150 ms).\n",
    "\n",
    "It starts at the J point (junction between the QRS complex and ST segment) and ends at the beginning of the T wave. However, since it is usually difficult to determine exactly where the ST segment ends and the T wave begins, the relationship between the ST segment and T wave should be examined together. The typical ST segment duration is usually around 0.08 sec (80 ms). It should be essentially level with the PR and TP segments.\n",
    "\n",
    "The ST segment represents the isoelectric period when the ventricles are in between depolarization and repolarization.\n",
    "Interpretation\n",
    "\n",
    "    The normal ST segment has a slight upward concavity.\n",
    "    Flat, downsloping, or depressed ST segments may indicate coronary ischemia.\n",
    "    ST elevation may indicate transmural myocardial infarction. An elevation of >1mm and longer than 80 milliseconds following the J-point. This measure has a false positive rate of 15-20% (which is slightly higher in women than men) and a false negative rate of 20-30%.[1]\n",
    "    ST depression may be associated with subendocardial myocardial infarction, hypokalemia, or digitalis toxicity.[2]"
   ]
  },
  {
   "cell_type": "code",
   "execution_count": 4,
   "metadata": {},
   "outputs": [
    {
     "name": "stdout",
     "output_type": "stream",
     "text": [
      "<class 'pandas.core.frame.DataFrame'>\n",
      "RangeIndex: 1190 entries, 0 to 1189\n",
      "Data columns (total 12 columns):\n",
      " #   Column               Non-Null Count  Dtype  \n",
      "---  ------               --------------  -----  \n",
      " 0   age                  1190 non-null   int64  \n",
      " 1   sex                  1190 non-null   int64  \n",
      " 2   chest pain type      1190 non-null   int64  \n",
      " 3   resting bp s         1190 non-null   int64  \n",
      " 4   cholesterol          1190 non-null   int64  \n",
      " 5   fasting blood sugar  1190 non-null   int64  \n",
      " 6   resting ecg          1190 non-null   int64  \n",
      " 7   max heart rate       1190 non-null   int64  \n",
      " 8   exercise angina      1190 non-null   int64  \n",
      " 9   oldpeak              1190 non-null   float64\n",
      " 10  ST slope             1190 non-null   int64  \n",
      " 11  target               1190 non-null   int64  \n",
      "dtypes: float64(1), int64(11)\n",
      "memory usage: 111.7 KB\n"
     ]
    }
   ],
   "source": [
    "mc.info()"
   ]
  },
  {
   "cell_type": "code",
   "execution_count": 5,
   "metadata": {},
   "outputs": [
    {
     "data": {
      "text/plain": [
       "age                    0\n",
       "sex                    0\n",
       "chest pain type        0\n",
       "resting bp s           0\n",
       "cholesterol            0\n",
       "fasting blood sugar    0\n",
       "resting ecg            0\n",
       "max heart rate         0\n",
       "exercise angina        0\n",
       "oldpeak                0\n",
       "ST slope               0\n",
       "target                 0\n",
       "dtype: int64"
      ]
     },
     "execution_count": 5,
     "metadata": {},
     "output_type": "execute_result"
    }
   ],
   "source": [
    "mc.isna().sum()"
   ]
  },
  {
   "cell_type": "code",
   "execution_count": 6,
   "metadata": {},
   "outputs": [
    {
     "data": {
      "text/plain": [
       "age                      int64\n",
       "sex                      int64\n",
       "chest pain type          int64\n",
       "resting bp s             int64\n",
       "cholesterol              int64\n",
       "fasting blood sugar      int64\n",
       "resting ecg              int64\n",
       "max heart rate           int64\n",
       "exercise angina          int64\n",
       "oldpeak                float64\n",
       "ST slope                 int64\n",
       "target                   int64\n",
       "dtype: object"
      ]
     },
     "execution_count": 6,
     "metadata": {},
     "output_type": "execute_result"
    }
   ],
   "source": [
    "mc.dtypes"
   ]
  },
  {
   "cell_type": "code",
   "execution_count": 7,
   "metadata": {},
   "outputs": [
    {
     "data": {
      "text/html": [
       "<div>\n",
       "<style scoped>\n",
       "    .dataframe tbody tr th:only-of-type {\n",
       "        vertical-align: middle;\n",
       "    }\n",
       "\n",
       "    .dataframe tbody tr th {\n",
       "        vertical-align: top;\n",
       "    }\n",
       "\n",
       "    .dataframe thead th {\n",
       "        text-align: right;\n",
       "    }\n",
       "</style>\n",
       "<table border=\"1\" class=\"dataframe\">\n",
       "  <thead>\n",
       "    <tr style=\"text-align: right;\">\n",
       "      <th></th>\n",
       "      <th>age</th>\n",
       "      <th>sex</th>\n",
       "      <th>chest pain type</th>\n",
       "      <th>resting bp s</th>\n",
       "      <th>cholesterol</th>\n",
       "      <th>fasting blood sugar</th>\n",
       "      <th>resting ecg</th>\n",
       "      <th>max heart rate</th>\n",
       "      <th>exercise angina</th>\n",
       "      <th>oldpeak</th>\n",
       "      <th>ST slope</th>\n",
       "      <th>target</th>\n",
       "    </tr>\n",
       "  </thead>\n",
       "  <tbody>\n",
       "    <tr>\n",
       "      <th>count</th>\n",
       "      <td>1190.000000</td>\n",
       "      <td>1190.000000</td>\n",
       "      <td>1190.000000</td>\n",
       "      <td>1190.000000</td>\n",
       "      <td>1190.000000</td>\n",
       "      <td>1190.000000</td>\n",
       "      <td>1190.000000</td>\n",
       "      <td>1190.000000</td>\n",
       "      <td>1190.000000</td>\n",
       "      <td>1190.000000</td>\n",
       "      <td>1190.000000</td>\n",
       "      <td>1190.000000</td>\n",
       "    </tr>\n",
       "    <tr>\n",
       "      <th>mean</th>\n",
       "      <td>53.720168</td>\n",
       "      <td>0.763866</td>\n",
       "      <td>3.232773</td>\n",
       "      <td>132.153782</td>\n",
       "      <td>210.363866</td>\n",
       "      <td>0.213445</td>\n",
       "      <td>0.698319</td>\n",
       "      <td>139.732773</td>\n",
       "      <td>0.387395</td>\n",
       "      <td>0.922773</td>\n",
       "      <td>1.624370</td>\n",
       "      <td>0.528571</td>\n",
       "    </tr>\n",
       "    <tr>\n",
       "      <th>std</th>\n",
       "      <td>9.358203</td>\n",
       "      <td>0.424884</td>\n",
       "      <td>0.935480</td>\n",
       "      <td>18.368823</td>\n",
       "      <td>101.420489</td>\n",
       "      <td>0.409912</td>\n",
       "      <td>0.870359</td>\n",
       "      <td>25.517636</td>\n",
       "      <td>0.487360</td>\n",
       "      <td>1.086337</td>\n",
       "      <td>0.610459</td>\n",
       "      <td>0.499393</td>\n",
       "    </tr>\n",
       "    <tr>\n",
       "      <th>min</th>\n",
       "      <td>28.000000</td>\n",
       "      <td>0.000000</td>\n",
       "      <td>1.000000</td>\n",
       "      <td>0.000000</td>\n",
       "      <td>0.000000</td>\n",
       "      <td>0.000000</td>\n",
       "      <td>0.000000</td>\n",
       "      <td>60.000000</td>\n",
       "      <td>0.000000</td>\n",
       "      <td>-2.600000</td>\n",
       "      <td>0.000000</td>\n",
       "      <td>0.000000</td>\n",
       "    </tr>\n",
       "    <tr>\n",
       "      <th>25%</th>\n",
       "      <td>47.000000</td>\n",
       "      <td>1.000000</td>\n",
       "      <td>3.000000</td>\n",
       "      <td>120.000000</td>\n",
       "      <td>188.000000</td>\n",
       "      <td>0.000000</td>\n",
       "      <td>0.000000</td>\n",
       "      <td>121.000000</td>\n",
       "      <td>0.000000</td>\n",
       "      <td>0.000000</td>\n",
       "      <td>1.000000</td>\n",
       "      <td>0.000000</td>\n",
       "    </tr>\n",
       "    <tr>\n",
       "      <th>50%</th>\n",
       "      <td>54.000000</td>\n",
       "      <td>1.000000</td>\n",
       "      <td>4.000000</td>\n",
       "      <td>130.000000</td>\n",
       "      <td>229.000000</td>\n",
       "      <td>0.000000</td>\n",
       "      <td>0.000000</td>\n",
       "      <td>140.500000</td>\n",
       "      <td>0.000000</td>\n",
       "      <td>0.600000</td>\n",
       "      <td>2.000000</td>\n",
       "      <td>1.000000</td>\n",
       "    </tr>\n",
       "    <tr>\n",
       "      <th>75%</th>\n",
       "      <td>60.000000</td>\n",
       "      <td>1.000000</td>\n",
       "      <td>4.000000</td>\n",
       "      <td>140.000000</td>\n",
       "      <td>269.750000</td>\n",
       "      <td>0.000000</td>\n",
       "      <td>2.000000</td>\n",
       "      <td>160.000000</td>\n",
       "      <td>1.000000</td>\n",
       "      <td>1.600000</td>\n",
       "      <td>2.000000</td>\n",
       "      <td>1.000000</td>\n",
       "    </tr>\n",
       "    <tr>\n",
       "      <th>max</th>\n",
       "      <td>77.000000</td>\n",
       "      <td>1.000000</td>\n",
       "      <td>4.000000</td>\n",
       "      <td>200.000000</td>\n",
       "      <td>603.000000</td>\n",
       "      <td>1.000000</td>\n",
       "      <td>2.000000</td>\n",
       "      <td>202.000000</td>\n",
       "      <td>1.000000</td>\n",
       "      <td>6.200000</td>\n",
       "      <td>3.000000</td>\n",
       "      <td>1.000000</td>\n",
       "    </tr>\n",
       "  </tbody>\n",
       "</table>\n",
       "</div>"
      ],
      "text/plain": [
       "               age          sex  chest pain type  resting bp s  cholesterol  \\\n",
       "count  1190.000000  1190.000000      1190.000000   1190.000000  1190.000000   \n",
       "mean     53.720168     0.763866         3.232773    132.153782   210.363866   \n",
       "std       9.358203     0.424884         0.935480     18.368823   101.420489   \n",
       "min      28.000000     0.000000         1.000000      0.000000     0.000000   \n",
       "25%      47.000000     1.000000         3.000000    120.000000   188.000000   \n",
       "50%      54.000000     1.000000         4.000000    130.000000   229.000000   \n",
       "75%      60.000000     1.000000         4.000000    140.000000   269.750000   \n",
       "max      77.000000     1.000000         4.000000    200.000000   603.000000   \n",
       "\n",
       "       fasting blood sugar  resting ecg  max heart rate  exercise angina  \\\n",
       "count          1190.000000  1190.000000     1190.000000      1190.000000   \n",
       "mean              0.213445     0.698319      139.732773         0.387395   \n",
       "std               0.409912     0.870359       25.517636         0.487360   \n",
       "min               0.000000     0.000000       60.000000         0.000000   \n",
       "25%               0.000000     0.000000      121.000000         0.000000   \n",
       "50%               0.000000     0.000000      140.500000         0.000000   \n",
       "75%               0.000000     2.000000      160.000000         1.000000   \n",
       "max               1.000000     2.000000      202.000000         1.000000   \n",
       "\n",
       "           oldpeak     ST slope       target  \n",
       "count  1190.000000  1190.000000  1190.000000  \n",
       "mean      0.922773     1.624370     0.528571  \n",
       "std       1.086337     0.610459     0.499393  \n",
       "min      -2.600000     0.000000     0.000000  \n",
       "25%       0.000000     1.000000     0.000000  \n",
       "50%       0.600000     2.000000     1.000000  \n",
       "75%       1.600000     2.000000     1.000000  \n",
       "max       6.200000     3.000000     1.000000  "
      ]
     },
     "execution_count": 7,
     "metadata": {},
     "output_type": "execute_result"
    }
   ],
   "source": [
    "mc.describe()"
   ]
  },
  {
   "cell_type": "code",
   "execution_count": 6,
   "metadata": {},
   "outputs": [
    {
     "data": {
      "text/plain": [
       "1    629\n",
       "0    561\n",
       "Name: target, dtype: int64"
      ]
     },
     "execution_count": 6,
     "metadata": {},
     "output_type": "execute_result"
    }
   ],
   "source": [
    "mc.target.value_counts()"
   ]
  },
  {
   "cell_type": "code",
   "execution_count": 7,
   "metadata": {},
   "outputs": [
    {
     "data": {
      "image/png": "[encoded data removed]",
      "text/plain": [
       "<Figure size 1080x1080 with 2 Axes>"
      ]
     },
     "metadata": {
      "needs_background": "light"
     },
     "output_type": "display_data"
    }
   ],
   "source": [
    "#Matrice de correlation\n",
    "plt.figure(figsize=(15,15))\n",
    "hm= sns.heatmap(mc.corr(), annot= True, cmap= \"RdYlGn\")"
   ]
  },
  {
   "cell_type": "code",
   "execution_count": 6,
   "metadata": {},
   "outputs": [
    {
     "data": {
      "image/png": "[encoded data removed]",
      "text/plain": [
       "<Figure size 1296x864 with 8 Axes>"
      ]
     },
     "metadata": {
      "needs_background": "light"
     },
     "output_type": "display_data"
    }
   ],
   "source": [
    "#Effectifs pour chaque categorie\n",
    "categories = ['sex', 'chest pain type', 'fasting blood sugar', 'resting ecg',\n",
    "       'exercise angina', 'ST slope', 'target']\n",
    "fig, axs = plt.subplots(nrows=2, ncols=4, figsize=(18, 12))\n",
    "for col, ax in zip(categories, axs.ravel()):\n",
    "    sns.countplot(x=col, data=mc, ax=ax)"
   ]
  },
  {
   "cell_type": "code",
   "execution_count": 7,
   "metadata": {},
   "outputs": [
    {
     "data": {
      "image/png": "[encoded data removed]",
      "text/plain": [
       "<Figure size 1296x864 with 8 Axes>"
      ]
     },
     "metadata": {
      "needs_background": "light"
     },
     "output_type": "display_data"
    }
   ],
   "source": [
    "#Effectifs pour chaque categorie selon la target\n",
    "categories = ['sex', 'chest pain type', 'fasting blood sugar', 'resting ecg',\n",
    "       'exercise angina', 'ST slope', 'target']\n",
    "fig, axs = plt.subplots(nrows=2, ncols=4, figsize=(18, 12))\n",
    "for col, ax in zip(categories, axs.ravel()):\n",
    "    sns.countplot(x=col, data=mc, ax=ax, hue='target')"
   ]
  },
  {
   "cell_type": "code",
   "execution_count": 8,
   "metadata": {},
   "outputs": [
    {
     "data": {
      "text/plain": [
       "<matplotlib.axes._subplots.AxesSubplot at 0x2c2fa76b4e0>"
      ]
     },
     "execution_count": 8,
     "metadata": {},
     "output_type": "execute_result"
    },
    {
     "data": {
      "image/png": "[encoded data removed]",
      "text/plain": [
       "<Figure size 432x288 with 1 Axes>"
      ]
     },
     "metadata": {
      "needs_background": "light"
     },
     "output_type": "display_data"
    }
   ],
   "source": [
    "sns.violinplot(x='target', y='age', hue='sex',data=mc)"
   ]
  },
  {
   "cell_type": "code",
   "execution_count": 9,
   "metadata": {},
   "outputs": [
    {
     "data": {
      "text/plain": [
       "<matplotlib.axes._subplots.AxesSubplot at 0x2c2fb415748>"
      ]
     },
     "execution_count": 9,
     "metadata": {},
     "output_type": "execute_result"
    },
    {
     "data": {
      "image/png": "[encoded data removed]",
      "text/plain": [
       "<Figure size 432x288 with 1 Axes>"
      ]
     },
     "metadata": {
      "needs_background": "light"
     },
     "output_type": "display_data"
    }
   ],
   "source": [
    "sns.countplot(x='target', hue='sex', data=mc)"
   ]
  },
  {
   "cell_type": "code",
   "execution_count": 10,
   "metadata": {},
   "outputs": [
    {
     "data": {
      "text/plain": [
       "<matplotlib.axes._subplots.AxesSubplot at 0x2c2fb426630>"
      ]
     },
     "execution_count": 10,
     "metadata": {},
     "output_type": "execute_result"
    },
    {
     "data": {
      "image/png": "[encoded data removed]",
      "text/plain": [
       "<Figure size 1080x720 with 1 Axes>"
      ]
     },
     "metadata": {
      "needs_background": "light"
     },
     "output_type": "display_data"
    }
   ],
   "source": [
    "plt.figure(figsize=(15,10))\n",
    "sns.countplot(x='age', hue='target', data=mc)"
   ]
  },
  {
   "cell_type": "markdown",
   "metadata": {},
   "source": [
    "# FEATURE ENGINEERING"
   ]
  },
  {
   "cell_type": "code",
   "execution_count": 8,
   "metadata": {},
   "outputs": [
    {
     "data": {
      "text/plain": [
       "(1190, 11)"
      ]
     },
     "execution_count": 8,
     "metadata": {},
     "output_type": "execute_result"
    }
   ],
   "source": [
    "Label = np.array(mc['target'])\n",
    "Features= np.array(mc.drop(['target'], axis=1))\n",
    "Features.shape"
   ]
  },
  {
   "cell_type": "code",
   "execution_count": 9,
   "metadata": {},
   "outputs": [],
   "source": [
    "#mc.to_csv('final.csv', index=False)"
   ]
  },
  {
   "cell_type": "code",
   "execution_count": 10,
   "metadata": {},
   "outputs": [
    {
     "data": {
      "text/plain": [
       "array([[ 40., 140., 289., ...,   0.,   0.,   1.],\n",
       "       [ 49., 160., 180., ...,   0.,   0.,   2.],\n",
       "       [ 37., 130., 283., ...,   1.,   0.,   1.],\n",
       "       ...,\n",
       "       [ 57., 130., 131., ...,   0.,   1.,   2.],\n",
       "       [ 57., 130., 236., ...,   2.,   0.,   2.],\n",
       "       [ 38., 138., 175., ...,   0.,   0.,   1.]])"
      ]
     },
     "execution_count": 10,
     "metadata": {},
     "output_type": "execute_result"
    }
   ],
   "source": [
    "Features"
   ]
  },
  {
   "cell_type": "code",
   "execution_count": 11,
   "metadata": {},
   "outputs": [
    {
     "data": {
      "text/plain": [
       "array([[-1.46672783,  0.42732826,  0.7756736 , ...,  0.        ,\n",
       "         0.        ,  1.        ],\n",
       "       [-0.50460037,  1.51658739, -0.29951178, ...,  0.        ,\n",
       "         0.        ,  2.        ],\n",
       "       [-1.78743698, -0.11730131,  0.71648908, ...,  1.        ,\n",
       "         0.        ,  1.        ],\n",
       "       ...,\n",
       "       [ 0.35062404, -0.11730131, -0.782852  , ...,  0.        ,\n",
       "         1.        ,  2.        ],\n",
       "       [ 0.35062404, -0.11730131,  0.25287704, ...,  2.        ,\n",
       "         0.        ,  2.        ],\n",
       "       [-1.68053393,  0.31840234, -0.34883221, ...,  0.        ,\n",
       "         0.        ,  1.        ]])"
      ]
     },
     "execution_count": 11,
     "metadata": {},
     "output_type": "execute_result"
    }
   ],
   "source": [
    "#Normalisation\n",
    "scaler = preprocessing.StandardScaler()\n",
    "scaler.fit(Features[:,:5])\n",
    "Features[:, :5] = scaler.transform(Features[:, :5])\n",
    "Features"
   ]
  },
  {
   "cell_type": "code",
   "execution_count": 12,
   "metadata": {},
   "outputs": [
    {
     "name": "stdout",
     "output_type": "stream",
     "text": [
      "(1190, 11)\n",
      "[ True  True  True  True  True  True  True  True  True  True  True]\n",
      "(1190, 11)\n"
     ]
    }
   ],
   "source": [
    "print(Features.shape)\n",
    "\n",
    "## Definir le threshold de la variance et l'appliquer aux Features. \n",
    "sel = fs.VarianceThreshold(threshold=(.8 * (1 - .8)))\n",
    "Features_reduced = sel.fit_transform(Features)\n",
    "\n",
    "## Afficher le support et le format des Features\n",
    "print(sel.get_support())\n",
    "print(Features_reduced.shape)"
   ]
  },
  {
   "cell_type": "code",
   "execution_count": 13,
   "metadata": {},
   "outputs": [],
   "source": [
    "#train_test_split\n",
    "X_train, X_test, y_train, y_test = train_test_split(Features_reduced, Label, test_size= 0.2, random_state=42)"
   ]
  },
  {
   "cell_type": "markdown",
   "metadata": {},
   "source": [
    "# MODELES"
   ]
  },
  {
   "cell_type": "markdown",
   "metadata": {},
   "source": [
    "## REGRESSION LOGISTIQUE"
   ]
  },
  {
   "cell_type": "code",
   "execution_count": 14,
   "metadata": {},
   "outputs": [
    {
     "data": {
      "text/plain": [
       "LogisticRegression(C=1.0, class_weight=None, dual=False, fit_intercept=True,\n",
       "                   intercept_scaling=1, l1_ratio=None, max_iter=100,\n",
       "                   multi_class='auto', n_jobs=None, penalty='l2',\n",
       "                   random_state=None, solver='lbfgs', tol=0.0001, verbose=0,\n",
       "                   warm_start=False)"
      ]
     },
     "execution_count": 14,
     "metadata": {},
     "output_type": "execute_result"
    }
   ],
   "source": [
    "clf_lr = LogisticRegression()\n",
    "clf_lr.fit(X_train, y_train)"
   ]
  },
  {
   "cell_type": "code",
   "execution_count": 15,
   "metadata": {},
   "outputs": [],
   "source": [
    "y_pred_lr = clf_lr.predict(X_test)"
   ]
  },
  {
   "cell_type": "code",
   "execution_count": 16,
   "metadata": {},
   "outputs": [
    {
     "data": {
      "text/plain": [
       "array([[ 90,  17],\n",
       "       [ 16, 115]], dtype=int64)"
      ]
     },
     "execution_count": 16,
     "metadata": {},
     "output_type": "execute_result"
    }
   ],
   "source": [
    "cm_lr = sklm.confusion_matrix(y_test, y_pred_lr)\n",
    "cm_lr"
   ]
  },
  {
   "cell_type": "code",
   "execution_count": 17,
   "metadata": {},
   "outputs": [
    {
     "name": "stdout",
     "output_type": "stream",
     "text": [
      "              precision    recall  f1-score   support\n",
      "\n",
      "           0       0.85      0.84      0.85       107\n",
      "           1       0.87      0.88      0.87       131\n",
      "\n",
      "    accuracy                           0.86       238\n",
      "   macro avg       0.86      0.86      0.86       238\n",
      "weighted avg       0.86      0.86      0.86       238\n",
      "\n"
     ]
    }
   ],
   "source": [
    "score_lr= sklm.classification_report(y_test, y_pred_lr)\n",
    "print(score_lr)"
   ]
  },
  {
   "cell_type": "code",
   "execution_count": 18,
   "metadata": {},
   "outputs": [
    {
     "name": "stdout",
     "output_type": "stream",
     "text": [
      "Accuracy du test set pour lr = 0.8613445378151261\n"
     ]
    }
   ],
   "source": [
    "print('Accuracy du test set pour lr = {}'.format((cm_lr[0][0] + cm_lr[1][1])/len(y_test)))"
   ]
  },
  {
   "cell_type": "markdown",
   "metadata": {},
   "source": [
    "## SVC"
   ]
  },
  {
   "cell_type": "code",
   "execution_count": 19,
   "metadata": {},
   "outputs": [
    {
     "data": {
      "text/plain": [
       "SVC(C=1.0, break_ties=False, cache_size=200, class_weight=None, coef0=0.0,\n",
       "    decision_function_shape='ovr', degree=3, gamma='scale', kernel='linear',\n",
       "    max_iter=-1, probability=False, random_state=None, shrinking=True,\n",
       "    tol=0.001, verbose=False)"
      ]
     },
     "execution_count": 19,
     "metadata": {},
     "output_type": "execute_result"
    }
   ],
   "source": [
    "clf_svc= SVC(kernel='linear')\n",
    "clf_svc.fit(X_train, y_train)"
   ]
  },
  {
   "cell_type": "code",
   "execution_count": 20,
   "metadata": {},
   "outputs": [
    {
     "data": {
      "text/plain": [
       "array([[ 88,  19],\n",
       "       [ 18, 113]], dtype=int64)"
      ]
     },
     "execution_count": 20,
     "metadata": {},
     "output_type": "execute_result"
    }
   ],
   "source": [
    "y_pred_svc= clf_svc.predict(X_test)\n",
    "cm_svc = sklm.confusion_matrix(y_test, y_pred_svc)\n",
    "cm_svc"
   ]
  },
  {
   "cell_type": "code",
   "execution_count": 21,
   "metadata": {},
   "outputs": [
    {
     "name": "stdout",
     "output_type": "stream",
     "text": [
      "              precision    recall  f1-score   support\n",
      "\n",
      "           0       0.83      0.82      0.83       107\n",
      "           1       0.86      0.86      0.86       131\n",
      "\n",
      "    accuracy                           0.84       238\n",
      "   macro avg       0.84      0.84      0.84       238\n",
      "weighted avg       0.84      0.84      0.84       238\n",
      "\n",
      "Accuracy du test set pour svc = 0.8445378151260504\n"
     ]
    }
   ],
   "source": [
    "score_svc= sklm.classification_report(y_test, y_pred_svc)\n",
    "print(score_svc)\n",
    "print('Accuracy du test set pour svc = {}'.format((cm_svc[0][0] + cm_svc[1][1])/len(y_test)))"
   ]
  },
  {
   "cell_type": "code",
   "execution_count": 22,
   "metadata": {},
   "outputs": [
    {
     "data": {
      "text/plain": [
       "SVC(C=1.0, break_ties=False, cache_size=200, class_weight=None, coef0=0.0,\n",
       "    decision_function_shape='ovr', degree=3, gamma='scale', kernel='rbf',\n",
       "    max_iter=-1, probability=False, random_state=None, shrinking=True,\n",
       "    tol=0.001, verbose=False)"
      ]
     },
     "execution_count": 22,
     "metadata": {},
     "output_type": "execute_result"
    }
   ],
   "source": [
    "clf_ksvc= SVC(kernel='rbf')\n",
    "clf_ksvc.fit(X_train, y_train)"
   ]
  },
  {
   "cell_type": "code",
   "execution_count": 23,
   "metadata": {},
   "outputs": [
    {
     "data": {
      "text/plain": [
       "array([[ 90,  17],\n",
       "       [ 12, 119]], dtype=int64)"
      ]
     },
     "execution_count": 23,
     "metadata": {},
     "output_type": "execute_result"
    }
   ],
   "source": [
    "y_pred_ksvc= clf_ksvc.predict(X_test)\n",
    "cm_ksvc = sklm.confusion_matrix(y_test, y_pred_ksvc)\n",
    "cm_ksvc"
   ]
  },
  {
   "cell_type": "code",
   "execution_count": 24,
   "metadata": {},
   "outputs": [
    {
     "name": "stdout",
     "output_type": "stream",
     "text": [
      "              precision    recall  f1-score   support\n",
      "\n",
      "           0       0.88      0.84      0.86       107\n",
      "           1       0.88      0.91      0.89       131\n",
      "\n",
      "    accuracy                           0.88       238\n",
      "   macro avg       0.88      0.87      0.88       238\n",
      "weighted avg       0.88      0.88      0.88       238\n",
      "\n",
      "Accuracy du test set pour ksvc = 0.8781512605042017\n"
     ]
    }
   ],
   "source": [
    "score_ksvc= sklm.classification_report(y_test, y_pred_ksvc)\n",
    "print(score_ksvc)\n",
    "print('Accuracy du test set pour ksvc = {}'.format((cm_ksvc[0][0] + cm_ksvc[1][1])/len(y_test)))"
   ]
  },
  {
   "cell_type": "markdown",
   "metadata": {},
   "source": [
    "## RANDOM FOREST"
   ]
  },
  {
   "cell_type": "code",
   "execution_count": 25,
   "metadata": {},
   "outputs": [
    {
     "data": {
      "text/plain": [
       "RandomForestClassifier(bootstrap=True, ccp_alpha=0.0, class_weight=None,\n",
       "                       criterion='entropy', max_depth=None, max_features='auto',\n",
       "                       max_leaf_nodes=None, max_samples=None,\n",
       "                       min_impurity_decrease=0.0, min_impurity_split=None,\n",
       "                       min_samples_leaf=1, min_samples_split=2,\n",
       "                       min_weight_fraction_leaf=0.0, n_estimators=50,\n",
       "                       n_jobs=None, oob_score=False, random_state=42, verbose=0,\n",
       "                       warm_start=False)"
      ]
     },
     "execution_count": 25,
     "metadata": {},
     "output_type": "execute_result"
    }
   ],
   "source": [
    "clf_rf= RandomForestClassifier(n_estimators=50, criterion='entropy', random_state=42)\n",
    "clf_rf.fit(X_train, y_train)"
   ]
  },
  {
   "cell_type": "code",
   "execution_count": 26,
   "metadata": {},
   "outputs": [
    {
     "data": {
      "text/plain": [
       "array([[100,   7],\n",
       "       [  5, 126]], dtype=int64)"
      ]
     },
     "execution_count": 26,
     "metadata": {},
     "output_type": "execute_result"
    }
   ],
   "source": [
    "y_pred_rf= clf_rf.predict(X_test)\n",
    "cm_rf = sklm.confusion_matrix(y_test, y_pred_rf)\n",
    "cm_rf"
   ]
  },
  {
   "cell_type": "code",
   "execution_count": 27,
   "metadata": {},
   "outputs": [
    {
     "name": "stdout",
     "output_type": "stream",
     "text": [
      "              precision    recall  f1-score   support\n",
      "\n",
      "           0       0.95      0.93      0.94       107\n",
      "           1       0.95      0.96      0.95       131\n",
      "\n",
      "    accuracy                           0.95       238\n",
      "   macro avg       0.95      0.95      0.95       238\n",
      "weighted avg       0.95      0.95      0.95       238\n",
      "\n",
      "Accuracy du test set pour rf = 0.9495798319327731\n"
     ]
    }
   ],
   "source": [
    "score_rf= sklm.classification_report(y_test, y_pred_rf)\n",
    "print(score_rf)\n",
    "print('Accuracy du test set pour rf = {}'.format((cm_rf[0][0] + cm_rf[1][1])/len(y_test)))"
   ]
  },
  {
   "cell_type": "markdown",
   "metadata": {},
   "source": [
    "## KNN"
   ]
  },
  {
   "cell_type": "code",
   "execution_count": 28,
   "metadata": {},
   "outputs": [
    {
     "data": {
      "text/plain": [
       "KNeighborsClassifier(algorithm='auto', leaf_size=30, metric='minkowski',\n",
       "                     metric_params=None, n_jobs=None, n_neighbors=5, p=2,\n",
       "                     weights='uniform')"
      ]
     },
     "execution_count": 28,
     "metadata": {},
     "output_type": "execute_result"
    }
   ],
   "source": [
    "clf_knn= KNeighborsClassifier(n_neighbors=5, metric='minkowski', p=2)\n",
    "clf_knn.fit(X_train,y_train)"
   ]
  },
  {
   "cell_type": "code",
   "execution_count": 29,
   "metadata": {},
   "outputs": [
    {
     "data": {
      "text/plain": [
       "array([[ 89,  18],\n",
       "       [ 16, 115]], dtype=int64)"
      ]
     },
     "execution_count": 29,
     "metadata": {},
     "output_type": "execute_result"
    }
   ],
   "source": [
    "y_pred_knn= clf_knn.predict(X_test)\n",
    "cm_knn = sklm.confusion_matrix(y_test, y_pred_knn)\n",
    "cm_knn"
   ]
  },
  {
   "cell_type": "code",
   "execution_count": 30,
   "metadata": {},
   "outputs": [
    {
     "name": "stdout",
     "output_type": "stream",
     "text": [
      "              precision    recall  f1-score   support\n",
      "\n",
      "           0       0.85      0.83      0.84       107\n",
      "           1       0.86      0.88      0.87       131\n",
      "\n",
      "    accuracy                           0.86       238\n",
      "   macro avg       0.86      0.85      0.86       238\n",
      "weighted avg       0.86      0.86      0.86       238\n",
      "\n",
      "Accuracy du test set pour knn = 0.8571428571428571\n"
     ]
    }
   ],
   "source": [
    "score_knn= sklm.classification_report(y_test, y_pred_knn)\n",
    "print(score_knn)\n",
    "print('Accuracy du test set pour knn = {}'.format((cm_knn[0][0] + cm_knn[1][1])/len(y_test)))"
   ]
  },
  {
   "cell_type": "code",
   "execution_count": 31,
   "metadata": {},
   "outputs": [
    {
     "data": {
      "text/plain": [
       "KNeighborsClassifier(algorithm='auto', leaf_size=30, metric='minkowski',\n",
       "                     metric_params=None, n_jobs=None, n_neighbors=10, p=2,\n",
       "                     weights='uniform')"
      ]
     },
     "execution_count": 31,
     "metadata": {},
     "output_type": "execute_result"
    }
   ],
   "source": [
    "knn_classifier= KNeighborsClassifier(n_neighbors=10, metric='minkowski', p=2)\n",
    "knn_classifier.fit(X_train,y_train)"
   ]
  },
  {
   "cell_type": "code",
   "execution_count": 32,
   "metadata": {},
   "outputs": [
    {
     "data": {
      "text/plain": [
       "array([[ 91,  16],\n",
       "       [ 18, 113]], dtype=int64)"
      ]
     },
     "execution_count": 32,
     "metadata": {},
     "output_type": "execute_result"
    }
   ],
   "source": [
    "y_pred_best_knn= knn_classifier.predict(X_test)\n",
    "cm_best_knn = sklm.confusion_matrix(y_test, y_pred_best_knn)\n",
    "cm_best_knn"
   ]
  },
  {
   "cell_type": "code",
   "execution_count": 33,
   "metadata": {
    "scrolled": true
   },
   "outputs": [
    {
     "name": "stdout",
     "output_type": "stream",
     "text": [
      "              precision    recall  f1-score   support\n",
      "\n",
      "           0       0.83      0.85      0.84       107\n",
      "           1       0.88      0.86      0.87       131\n",
      "\n",
      "    accuracy                           0.86       238\n",
      "   macro avg       0.86      0.86      0.86       238\n",
      "weighted avg       0.86      0.86      0.86       238\n",
      "\n",
      "Accuracy du test set pour best_knn = 0.8571428571428571\n"
     ]
    }
   ],
   "source": [
    "score_best_knn= sklm.classification_report(y_test, y_pred_best_knn)\n",
    "print(score_best_knn)\n",
    "print('Accuracy du test set pour best_knn = {}'.format((cm_best_knn[0][0] + cm_best_knn[1][1])/len(y_test)))"
   ]
  },
  {
   "cell_type": "markdown",
   "metadata": {},
   "source": [
    "## ANN"
   ]
  },
  {
   "cell_type": "code",
   "execution_count": 34,
   "metadata": {},
   "outputs": [
    {
     "name": "stderr",
     "output_type": "stream",
     "text": [
      "Using TensorFlow backend.\n"
     ]
    }
   ],
   "source": [
    "import keras\n",
    "from keras.models import Sequential\n",
    "from keras.layers import Dense"
   ]
  },
  {
   "cell_type": "code",
   "execution_count": 36,
   "metadata": {},
   "outputs": [
    {
     "name": "stderr",
     "output_type": "stream",
     "text": [
      "C:\\Users\\tripl\\anaconda3\\envs\\deep\\lib\\site-packages\\ipykernel_launcher.py:6: UserWarning: The `nb_epoch` argument in `fit` has been renamed `epochs`.\n",
      "  \n"
     ]
    },
    {
     "name": "stdout",
     "output_type": "stream",
     "text": [
      "WARNING:tensorflow:From C:\\Users\\tripl\\anaconda3\\envs\\deep\\lib\\site-packages\\keras\\backend\\tensorflow_backend.py:422: The name tf.global_variables is deprecated. Please use tf.compat.v1.global_variables instead.\n",
      "\n",
      "Train on 761 samples, validate on 191 samples\n",
      "Epoch 1/100\n",
      "761/761 [==============================] - 0s 386us/step - loss: 0.6927 - accuracy: 0.5230 - val_loss: 0.6925 - val_accuracy: 0.4764\n",
      "Epoch 2/100\n",
      "761/761 [==============================] - 0s 55us/step - loss: 0.6898 - accuracy: 0.5348 - val_loss: 0.6894 - val_accuracy: 0.4764\n",
      "Epoch 3/100\n",
      "761/761 [==============================] - 0s 59us/step - loss: 0.6804 - accuracy: 0.5348 - val_loss: 0.6804 - val_accuracy: 0.4764\n",
      "Epoch 4/100\n",
      "761/761 [==============================] - 0s 51us/step - loss: 0.6596 - accuracy: 0.5348 - val_loss: 0.6639 - val_accuracy: 0.4764\n",
      "Epoch 5/100\n",
      "761/761 [==============================] - 0s 41us/step - loss: 0.6310 - accuracy: 0.5348 - val_loss: 0.6455 - val_accuracy: 0.4764\n",
      "Epoch 6/100\n",
      "761/761 [==============================] - 0s 42us/step - loss: 0.6013 - accuracy: 0.5966 - val_loss: 0.6294 - val_accuracy: 0.6178\n",
      "Epoch 7/100\n",
      "761/761 [==============================] - 0s 42us/step - loss: 0.5807 - accuracy: 0.6951 - val_loss: 0.6161 - val_accuracy: 0.6859\n",
      "Epoch 8/100\n",
      "761/761 [==============================] - 0s 41us/step - loss: 0.5641 - accuracy: 0.7306 - val_loss: 0.6047 - val_accuracy: 0.6963\n",
      "Epoch 9/100\n",
      "761/761 [==============================] - 0s 42us/step - loss: 0.5510 - accuracy: 0.7411 - val_loss: 0.5966 - val_accuracy: 0.7173\n",
      "Epoch 10/100\n",
      "761/761 [==============================] - 0s 40us/step - loss: 0.5414 - accuracy: 0.7464 - val_loss: 0.5908 - val_accuracy: 0.7225\n",
      "Epoch 11/100\n",
      "761/761 [==============================] - 0s 42us/step - loss: 0.5329 - accuracy: 0.7674 - val_loss: 0.5828 - val_accuracy: 0.7592\n",
      "Epoch 12/100\n",
      "761/761 [==============================] - 0s 42us/step - loss: 0.5264 - accuracy: 0.7950 - val_loss: 0.5780 - val_accuracy: 0.7592\n",
      "Epoch 13/100\n",
      "761/761 [==============================] - 0s 42us/step - loss: 0.5205 - accuracy: 0.7976 - val_loss: 0.5740 - val_accuracy: 0.7539\n",
      "Epoch 14/100\n",
      "761/761 [==============================] - 0s 55us/step - loss: 0.5157 - accuracy: 0.8003 - val_loss: 0.5702 - val_accuracy: 0.7539\n",
      "Epoch 15/100\n",
      "761/761 [==============================] - 0s 40us/step - loss: 0.5117 - accuracy: 0.8081 - val_loss: 0.5665 - val_accuracy: 0.7696\n",
      "Epoch 16/100\n",
      "761/761 [==============================] - 0s 44us/step - loss: 0.5075 - accuracy: 0.8081 - val_loss: 0.5628 - val_accuracy: 0.7696\n",
      "Epoch 17/100\n",
      "761/761 [==============================] - 0s 42us/step - loss: 0.5044 - accuracy: 0.8095 - val_loss: 0.5589 - val_accuracy: 0.7644\n",
      "Epoch 18/100\n",
      "761/761 [==============================] - 0s 42us/step - loss: 0.5008 - accuracy: 0.8121 - val_loss: 0.5567 - val_accuracy: 0.7801\n",
      "Epoch 19/100\n",
      "761/761 [==============================] - 0s 48us/step - loss: 0.4976 - accuracy: 0.8160 - val_loss: 0.5518 - val_accuracy: 0.7644\n",
      "Epoch 20/100\n",
      "761/761 [==============================] - 0s 49us/step - loss: 0.4946 - accuracy: 0.8121 - val_loss: 0.5494 - val_accuracy: 0.7644\n",
      "Epoch 21/100\n",
      "761/761 [==============================] - 0s 48us/step - loss: 0.4921 - accuracy: 0.8134 - val_loss: 0.5463 - val_accuracy: 0.7696\n",
      "Epoch 22/100\n",
      "761/761 [==============================] - 0s 49us/step - loss: 0.4891 - accuracy: 0.8147 - val_loss: 0.5448 - val_accuracy: 0.7696\n",
      "Epoch 23/100\n",
      "761/761 [==============================] - 0s 49us/step - loss: 0.4874 - accuracy: 0.8200 - val_loss: 0.5406 - val_accuracy: 0.7801\n",
      "Epoch 24/100\n",
      "761/761 [==============================] - 0s 42us/step - loss: 0.4844 - accuracy: 0.8187 - val_loss: 0.5381 - val_accuracy: 0.7801\n",
      "Epoch 25/100\n",
      "761/761 [==============================] - 0s 41us/step - loss: 0.4827 - accuracy: 0.8187 - val_loss: 0.5372 - val_accuracy: 0.7749\n",
      "Epoch 26/100\n",
      "761/761 [==============================] - 0s 41us/step - loss: 0.4798 - accuracy: 0.8213 - val_loss: 0.5325 - val_accuracy: 0.7853\n",
      "Epoch 27/100\n",
      "761/761 [==============================] - 0s 44us/step - loss: 0.4779 - accuracy: 0.8239 - val_loss: 0.5325 - val_accuracy: 0.7801\n",
      "Epoch 28/100\n",
      "761/761 [==============================] - 0s 42us/step - loss: 0.4762 - accuracy: 0.8226 - val_loss: 0.5283 - val_accuracy: 0.7853\n",
      "Epoch 29/100\n",
      "761/761 [==============================] - 0s 44us/step - loss: 0.4736 - accuracy: 0.8292 - val_loss: 0.5268 - val_accuracy: 0.7853\n",
      "Epoch 30/100\n",
      "761/761 [==============================] - 0s 41us/step - loss: 0.4719 - accuracy: 0.8239 - val_loss: 0.5251 - val_accuracy: 0.7853\n",
      "Epoch 31/100\n",
      "761/761 [==============================] - 0s 41us/step - loss: 0.4696 - accuracy: 0.8239 - val_loss: 0.5243 - val_accuracy: 0.7853\n",
      "Epoch 32/100\n",
      "761/761 [==============================] - 0s 50us/step - loss: 0.4689 - accuracy: 0.8279 - val_loss: 0.5222 - val_accuracy: 0.7906\n",
      "Epoch 33/100\n",
      "761/761 [==============================] - 0s 44us/step - loss: 0.4661 - accuracy: 0.8265 - val_loss: 0.5212 - val_accuracy: 0.7906\n",
      "Epoch 34/100\n",
      "761/761 [==============================] - 0s 41us/step - loss: 0.4648 - accuracy: 0.8292 - val_loss: 0.5178 - val_accuracy: 0.7801\n",
      "Epoch 35/100\n",
      "761/761 [==============================] - 0s 37us/step - loss: 0.4626 - accuracy: 0.8265 - val_loss: 0.5169 - val_accuracy: 0.7801\n",
      "Epoch 36/100\n",
      "761/761 [==============================] - 0s 37us/step - loss: 0.4613 - accuracy: 0.8252 - val_loss: 0.5157 - val_accuracy: 0.7853\n",
      "Epoch 37/100\n",
      "761/761 [==============================] - 0s 42us/step - loss: 0.4595 - accuracy: 0.8279 - val_loss: 0.5144 - val_accuracy: 0.7801\n",
      "Epoch 38/100\n",
      "761/761 [==============================] - 0s 40us/step - loss: 0.4581 - accuracy: 0.8252 - val_loss: 0.5117 - val_accuracy: 0.7801\n",
      "Epoch 39/100\n",
      "761/761 [==============================] - 0s 40us/step - loss: 0.4564 - accuracy: 0.8252 - val_loss: 0.5117 - val_accuracy: 0.7801\n",
      "Epoch 40/100\n",
      "761/761 [==============================] - 0s 42us/step - loss: 0.4553 - accuracy: 0.8252 - val_loss: 0.5105 - val_accuracy: 0.7801\n",
      "Epoch 41/100\n",
      "761/761 [==============================] - 0s 40us/step - loss: 0.4538 - accuracy: 0.8226 - val_loss: 0.5090 - val_accuracy: 0.7801\n",
      "Epoch 42/100\n",
      "761/761 [==============================] - 0s 41us/step - loss: 0.4527 - accuracy: 0.8252 - val_loss: 0.5069 - val_accuracy: 0.7853\n",
      "Epoch 43/100\n",
      "761/761 [==============================] - 0s 44us/step - loss: 0.4522 - accuracy: 0.8239 - val_loss: 0.5068 - val_accuracy: 0.7853\n",
      "Epoch 44/100\n",
      "761/761 [==============================] - 0s 37us/step - loss: 0.4512 - accuracy: 0.8239 - val_loss: 0.5050 - val_accuracy: 0.7853\n",
      "Epoch 45/100\n",
      "761/761 [==============================] - 0s 41us/step - loss: 0.4490 - accuracy: 0.8279 - val_loss: 0.5037 - val_accuracy: 0.7853\n",
      "Epoch 46/100\n",
      "761/761 [==============================] - 0s 42us/step - loss: 0.4485 - accuracy: 0.8265 - val_loss: 0.5024 - val_accuracy: 0.7853\n",
      "Epoch 47/100\n",
      "761/761 [==============================] - 0s 41us/step - loss: 0.4478 - accuracy: 0.8265 - val_loss: 0.5037 - val_accuracy: 0.7853\n",
      "Epoch 48/100\n",
      "761/761 [==============================] - 0s 44us/step - loss: 0.4459 - accuracy: 0.8265 - val_loss: 0.5002 - val_accuracy: 0.7853\n",
      "Epoch 49/100\n",
      "761/761 [==============================] - 0s 37us/step - loss: 0.4445 - accuracy: 0.8305 - val_loss: 0.5000 - val_accuracy: 0.7853\n",
      "Epoch 50/100\n",
      "761/761 [==============================] - 0s 42us/step - loss: 0.4442 - accuracy: 0.8252 - val_loss: 0.4998 - val_accuracy: 0.7906\n",
      "Epoch 51/100\n",
      "761/761 [==============================] - 0s 39us/step - loss: 0.4426 - accuracy: 0.8292 - val_loss: 0.4981 - val_accuracy: 0.7853\n",
      "Epoch 52/100\n",
      "761/761 [==============================] - 0s 42us/step - loss: 0.4418 - accuracy: 0.8265 - val_loss: 0.4968 - val_accuracy: 0.7853\n",
      "Epoch 53/100\n",
      "761/761 [==============================] - 0s 41us/step - loss: 0.4407 - accuracy: 0.8305 - val_loss: 0.4950 - val_accuracy: 0.7853\n",
      "Epoch 54/100\n",
      "761/761 [==============================] - 0s 40us/step - loss: 0.4409 - accuracy: 0.8292 - val_loss: 0.4944 - val_accuracy: 0.7853\n",
      "Epoch 55/100\n",
      "761/761 [==============================] - 0s 42us/step - loss: 0.4407 - accuracy: 0.8252 - val_loss: 0.4965 - val_accuracy: 0.7906\n"
     ]
    },
    {
     "name": "stdout",
     "output_type": "stream",
     "text": [
      "Epoch 56/100\n",
      "761/761 [==============================] - 0s 41us/step - loss: 0.4377 - accuracy: 0.8318 - val_loss: 0.4925 - val_accuracy: 0.7853\n",
      "Epoch 57/100\n",
      "761/761 [==============================] - 0s 37us/step - loss: 0.4371 - accuracy: 0.8279 - val_loss: 0.4915 - val_accuracy: 0.7906\n",
      "Epoch 58/100\n",
      "761/761 [==============================] - 0s 37us/step - loss: 0.4359 - accuracy: 0.8279 - val_loss: 0.4930 - val_accuracy: 0.8063\n",
      "Epoch 59/100\n",
      "761/761 [==============================] - 0s 37us/step - loss: 0.4350 - accuracy: 0.8279 - val_loss: 0.4900 - val_accuracy: 0.8010\n",
      "Epoch 60/100\n",
      "761/761 [==============================] - 0s 35us/step - loss: 0.4338 - accuracy: 0.8305 - val_loss: 0.4892 - val_accuracy: 0.8063\n",
      "Epoch 61/100\n",
      "761/761 [==============================] - 0s 36us/step - loss: 0.4326 - accuracy: 0.8318 - val_loss: 0.4877 - val_accuracy: 0.8063\n",
      "Epoch 62/100\n",
      "761/761 [==============================] - 0s 40us/step - loss: 0.4319 - accuracy: 0.8305 - val_loss: 0.4866 - val_accuracy: 0.8063\n",
      "Epoch 63/100\n",
      "761/761 [==============================] - 0s 44us/step - loss: 0.4309 - accuracy: 0.8292 - val_loss: 0.4874 - val_accuracy: 0.8115\n",
      "Epoch 64/100\n",
      "761/761 [==============================] - 0s 40us/step - loss: 0.4295 - accuracy: 0.8318 - val_loss: 0.4846 - val_accuracy: 0.8115\n",
      "Epoch 65/100\n",
      "761/761 [==============================] - 0s 41us/step - loss: 0.4285 - accuracy: 0.8292 - val_loss: 0.4844 - val_accuracy: 0.8115\n",
      "Epoch 66/100\n",
      "761/761 [==============================] - 0s 39us/step - loss: 0.4283 - accuracy: 0.8292 - val_loss: 0.4833 - val_accuracy: 0.8115\n",
      "Epoch 67/100\n",
      "761/761 [==============================] - 0s 37us/step - loss: 0.4271 - accuracy: 0.8318 - val_loss: 0.4811 - val_accuracy: 0.8115\n",
      "Epoch 68/100\n",
      "761/761 [==============================] - 0s 36us/step - loss: 0.4253 - accuracy: 0.8318 - val_loss: 0.4832 - val_accuracy: 0.8115\n",
      "Epoch 69/100\n",
      "761/761 [==============================] - 0s 35us/step - loss: 0.4252 - accuracy: 0.8279 - val_loss: 0.4829 - val_accuracy: 0.7958\n",
      "Epoch 70/100\n",
      "761/761 [==============================] - 0s 35us/step - loss: 0.4235 - accuracy: 0.8305 - val_loss: 0.4801 - val_accuracy: 0.8063\n",
      "Epoch 71/100\n",
      "761/761 [==============================] - 0s 41us/step - loss: 0.4225 - accuracy: 0.8305 - val_loss: 0.4797 - val_accuracy: 0.8010\n",
      "Epoch 72/100\n",
      "761/761 [==============================] - 0s 39us/step - loss: 0.4231 - accuracy: 0.8292 - val_loss: 0.4780 - val_accuracy: 0.8010\n",
      "Epoch 73/100\n",
      "761/761 [==============================] - 0s 37us/step - loss: 0.4216 - accuracy: 0.8252 - val_loss: 0.4799 - val_accuracy: 0.7958\n",
      "Epoch 74/100\n",
      "761/761 [==============================] - 0s 39us/step - loss: 0.4216 - accuracy: 0.8318 - val_loss: 0.4774 - val_accuracy: 0.7906\n",
      "Epoch 75/100\n",
      "761/761 [==============================] - 0s 41us/step - loss: 0.4214 - accuracy: 0.8239 - val_loss: 0.4759 - val_accuracy: 0.7906\n",
      "Epoch 76/100\n",
      "761/761 [==============================] - 0s 35us/step - loss: 0.4181 - accuracy: 0.8265 - val_loss: 0.4749 - val_accuracy: 0.7906\n",
      "Epoch 77/100\n",
      "761/761 [==============================] - 0s 36us/step - loss: 0.4170 - accuracy: 0.8213 - val_loss: 0.4767 - val_accuracy: 0.7906\n",
      "Epoch 78/100\n",
      "761/761 [==============================] - 0s 40us/step - loss: 0.4159 - accuracy: 0.8213 - val_loss: 0.4768 - val_accuracy: 0.7801\n",
      "Epoch 79/100\n",
      "761/761 [==============================] - 0s 41us/step - loss: 0.4151 - accuracy: 0.8213 - val_loss: 0.4751 - val_accuracy: 0.7853\n",
      "Epoch 80/100\n",
      "761/761 [==============================] - 0s 39us/step - loss: 0.4143 - accuracy: 0.8200 - val_loss: 0.4755 - val_accuracy: 0.7801\n",
      "Epoch 81/100\n",
      "761/761 [==============================] - 0s 37us/step - loss: 0.4137 - accuracy: 0.8226 - val_loss: 0.4745 - val_accuracy: 0.7853\n",
      "Epoch 82/100\n",
      "761/761 [==============================] - 0s 37us/step - loss: 0.4122 - accuracy: 0.8200 - val_loss: 0.4738 - val_accuracy: 0.7801\n",
      "Epoch 83/100\n",
      "761/761 [==============================] - 0s 36us/step - loss: 0.4120 - accuracy: 0.8213 - val_loss: 0.4744 - val_accuracy: 0.7853\n",
      "Epoch 84/100\n",
      "761/761 [==============================] - 0s 37us/step - loss: 0.4107 - accuracy: 0.8226 - val_loss: 0.4714 - val_accuracy: 0.7906\n",
      "Epoch 85/100\n",
      "761/761 [==============================] - 0s 40us/step - loss: 0.4096 - accuracy: 0.8226 - val_loss: 0.4738 - val_accuracy: 0.7801\n",
      "Epoch 86/100\n",
      "761/761 [==============================] - 0s 40us/step - loss: 0.4097 - accuracy: 0.8265 - val_loss: 0.4721 - val_accuracy: 0.7853\n",
      "Epoch 87/100\n",
      "761/761 [==============================] - 0s 40us/step - loss: 0.4073 - accuracy: 0.8265 - val_loss: 0.4745 - val_accuracy: 0.7749\n",
      "Epoch 88/100\n",
      "761/761 [==============================] - 0s 39us/step - loss: 0.4068 - accuracy: 0.8265 - val_loss: 0.4711 - val_accuracy: 0.7801\n",
      "Epoch 89/100\n",
      "761/761 [==============================] - 0s 42us/step - loss: 0.4059 - accuracy: 0.8252 - val_loss: 0.4728 - val_accuracy: 0.7749\n",
      "Epoch 90/100\n",
      "761/761 [==============================] - 0s 39us/step - loss: 0.4050 - accuracy: 0.8252 - val_loss: 0.4725 - val_accuracy: 0.7749\n",
      "Epoch 91/100\n",
      "761/761 [==============================] - 0s 36us/step - loss: 0.4036 - accuracy: 0.8279 - val_loss: 0.4705 - val_accuracy: 0.7853\n",
      "Epoch 92/100\n",
      "761/761 [==============================] - 0s 39us/step - loss: 0.4035 - accuracy: 0.8252 - val_loss: 0.4724 - val_accuracy: 0.7749\n",
      "Epoch 93/100\n",
      "761/761 [==============================] - 0s 36us/step - loss: 0.4030 - accuracy: 0.8239 - val_loss: 0.4732 - val_accuracy: 0.7749\n",
      "Epoch 94/100\n",
      "761/761 [==============================] - 0s 37us/step - loss: 0.4015 - accuracy: 0.8265 - val_loss: 0.4705 - val_accuracy: 0.7801\n",
      "Epoch 95/100\n",
      "761/761 [==============================] - 0s 40us/step - loss: 0.4014 - accuracy: 0.8252 - val_loss: 0.4705 - val_accuracy: 0.7801\n",
      "Epoch 96/100\n",
      "761/761 [==============================] - 0s 44us/step - loss: 0.4006 - accuracy: 0.8305 - val_loss: 0.4701 - val_accuracy: 0.7749\n",
      "Epoch 97/100\n",
      "761/761 [==============================] - 0s 40us/step - loss: 0.3991 - accuracy: 0.8239 - val_loss: 0.4708 - val_accuracy: 0.7749\n",
      "Epoch 98/100\n",
      "761/761 [==============================] - 0s 40us/step - loss: 0.3984 - accuracy: 0.8239 - val_loss: 0.4704 - val_accuracy: 0.7749\n",
      "Epoch 99/100\n",
      "761/761 [==============================] - 0s 42us/step - loss: 0.3948 - accuracy: 0.8344 - val_loss: 0.4652 - val_accuracy: 0.7853\n",
      "Epoch 100/100\n",
      "761/761 [==============================] - 0s 39us/step - loss: 0.3929 - accuracy: 0.8305 - val_loss: 0.4642 - val_accuracy: 0.7853\n"
     ]
    }
   ],
   "source": [
    "ann= Sequential()\n",
    "ann.add(Dense(6, kernel_initializer='uniform', activation='relu', input_dim=11))\n",
    "ann.add(Dense(6, kernel_initializer='uniform', activation='relu'))\n",
    "ann.add(Dense(1, kernel_initializer='uniform', activation='sigmoid'))\n",
    "ann.compile(optimizer='adam', loss='binary_crossentropy', metrics=['accuracy'])\n",
    "epoch_hist= ann.fit(X_train, y_train, batch_size=32, nb_epoch=100, validation_split= 0.2)"
   ]
  },
  {
   "cell_type": "code",
   "execution_count": 37,
   "metadata": {},
   "outputs": [
    {
     "data": {
      "text/plain": [
       "array([[ 88,  19],\n",
       "       [ 15, 116]], dtype=int64)"
      ]
     },
     "execution_count": 37,
     "metadata": {},
     "output_type": "execute_result"
    }
   ],
   "source": [
    "y_pred_ann= ann.predict(X_test)\n",
    "y_pred_ann = (y_pred_ann> 0.5)\n",
    "cm_ann = sklm.confusion_matrix(y_test, y_pred_ann)\n",
    "cm_ann"
   ]
  },
  {
   "cell_type": "code",
   "execution_count": 38,
   "metadata": {},
   "outputs": [
    {
     "data": {
      "text/plain": [
       "<matplotlib.legend.Legend at 0x270f1fcaa20>"
      ]
     },
     "execution_count": 38,
     "metadata": {},
     "output_type": "execute_result"
    },
    {
     "data": {
      "image/png": "[encoded data removed]",
      "text/plain": [
       "<Figure size 432x288 with 1 Axes>"
      ]
     },
     "metadata": {
      "needs_background": "light"
     },
     "output_type": "display_data"
    }
   ],
   "source": [
    "import matplotlib.pyplot as plt\n",
    "plt.plot(epoch_hist.history['loss'])\n",
    "plt.plot(epoch_hist.history['val_loss'])\n",
    "plt.title('Progression loss du model pendant Train/Validation')\n",
    "plt.ylabel('Loss du Train/Validation')\n",
    "plt.xlabel('Nb epoch')\n",
    "plt.legend(['Loss Train', 'Loss Validation'])"
   ]
  },
  {
   "cell_type": "code",
   "execution_count": 39,
   "metadata": {},
   "outputs": [
    {
     "data": {
      "text/plain": [
       "<matplotlib.legend.Legend at 0x270f2a68438>"
      ]
     },
     "execution_count": 39,
     "metadata": {},
     "output_type": "execute_result"
    },
    {
     "data": {
      "image/png": "[encoded data removed]",
      "text/plain": [
       "<Figure size 432x288 with 1 Axes>"
      ]
     },
     "metadata": {
      "needs_background": "light"
     },
     "output_type": "display_data"
    }
   ],
   "source": [
    "plt.plot(epoch_hist.history['accuracy'])\n",
    "plt.plot(epoch_hist.history['val_accuracy'])\n",
    "plt.title('Progression accuracy du model pendant Train/Validation')\n",
    "plt.ylabel('Accuracy du Train/Validation')\n",
    "plt.xlabel('Nb epoch')\n",
    "plt.legend(['Accuracy Train', 'Accuracy Validation'])"
   ]
  },
  {
   "cell_type": "code",
   "execution_count": null,
   "metadata": {},
   "outputs": [],
   "source": [
    "# Le modele du Random Forest est le meilleur"
   ]
  }
 ],
 "metadata": {
  "kernelspec": {
   "display_name": "Python 3",
   "language": "python",
   "name": "python3"
  },
  "language_info": {
   "codemirror_mode": {
    "name": "ipython",
    "version": 3
   },
   "file_extension": ".py",
   "mimetype": "text/x-python",
   "name": "python",
   "nbconvert_exporter": "python",
   "pygments_lexer": "ipython3",
   "version": "3.6.10"
  },
  "toc": {
   "base_numbering": 1,
   "nav_menu": {},
   "number_sections": true,
   "sideBar": true,
   "skip_h1_title": false,
   "title_cell": "Table of Contents",
   "title_sidebar": "Contents",
   "toc_cell": false,
   "toc_position": {},
   "toc_section_display": true,
   "toc_window_display": false
  },
  "varInspector": {
   "cols": {
    "lenName": 16,
    "lenType": 16,
    "lenVar": 40
   },
   "kernels_config": {
    "python": {
     "delete_cmd_postfix": "",
     "delete_cmd_prefix": "del ",
     "library": "var_list.py",
     "varRefreshCmd": "print(var_dic_list())"
    },
    "r": {
     "delete_cmd_postfix": ") ",
     "delete_cmd_prefix": "rm(",
     "library": "var_list.r",
     "varRefreshCmd": "cat(var_dic_list()) "
    }
   },
   "oldHeight": 122.85,
   "position": {
    "height": "40px",
    "left": "1164.2px",
    "right": "20px",
    "top": "79px",
    "width": "250px"
   },
   "types_to_exclude": [
    "module",
    "function",
    "builtin_function_or_method",
    "instance",
    "_Feature"
   ],
   "varInspector_section_display": "none",
   "window_display": true
  }
 },
 "nbformat": 4,
 "nbformat_minor": 4
}